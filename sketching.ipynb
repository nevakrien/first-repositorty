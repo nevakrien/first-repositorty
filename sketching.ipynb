{
 "cells": [
  {
   "cell_type": "code",
   "execution_count": 2,
   "id": "d69f767c",
   "metadata": {},
   "outputs": [
    {
     "name": "stderr",
     "output_type": "stream",
     "text": [
      "C:\\ProgramData\\Anaconda3\\lib\\site-packages\\scipy\\__init__.py:146: UserWarning: A NumPy version >=1.16.5 and <1.23.0 is required for this version of SciPy (detected version 1.23.2\n",
      "  warnings.warn(f\"A NumPy version >={np_minversion} and <{np_maxversion}\"\n"
     ]
    }
   ],
   "source": [
    "import tensorflow as tf\n",
    "import matplotlib.pyplot as plt"
   ]
  },
  {
   "cell_type": "code",
   "execution_count": 3,
   "id": "f37093e4",
   "metadata": {},
   "outputs": [
    {
     "data": {
      "text/plain": [
       "<tf.Tensor: shape=(2, 9), dtype=float32, numpy=\n",
       "array([[0.14698942, 0.13463296, 0.09370851, 0.09370851, 0.09370851,\n",
       "        0.09370851, 0.09370851, 0.10322896, 0.14660612],\n",
       "       [0.100629  , 0.11833064, 0.12606408, 0.100629  , 0.100629  ,\n",
       "        0.13305017, 0.100629  , 0.100629  , 0.11941014]], dtype=float32)>"
      ]
     },
     "execution_count": 3,
     "metadata": {},
     "output_type": "execute_result"
    }
   ],
   "source": [
    "LABEL=9\n",
    "x=tf.random.uniform([2,LABEL])\n",
    "s=tf.math.top_k(x,k=5) #,sorted=False\n",
    "\n",
    "mask=tf.one_hot(s[1],LABEL)\n",
    "mask=tf.reduce_sum(mask,axis=1)\n",
    "\n",
    "m=x*mask\n",
    "m=tf.reduce_mean(m,axis=-1)\n",
    "m=tf.stack([m for _ in range(LABEL)],axis=1)\n",
    "x=x*(1-mask)+m \n",
    "\n",
    "tf.nn.softmax(x)"
   ]
  },
  {
   "cell_type": "code",
   "execution_count": 148,
   "id": "a6ed71b3",
   "metadata": {},
   "outputs": [],
   "source": [
    "class choose_k(tf.keras.layers.Layer):\n",
    "    def __init__(self, k,input_length,logits=False,smoothing=1.):\n",
    "        super(choose_k, self).__init__()\n",
    "        self.k = k\n",
    "        self.input_length=input_length\n",
    "        self.logits=logits\n",
    "        assert 0.<=smoothing<=1.\n",
    "        self.smoothing=smoothing\n",
    "    \n",
    "    #@tf.function\n",
    "    def call(self,x):\n",
    "        LABEL=self.input_length\n",
    "        s=tf.math.top_k(x,k=self.k,sorted=False)\n",
    "        \n",
    "        mask=tf.one_hot(s[1],LABEL)\n",
    "        mask=tf.reduce_sum(mask,axis=1)\n",
    "\n",
    "        m=tf.reduce_min(s[0],axis=-1)\n",
    "        m=tf.stack([m for _ in range(LABEL)],axis=1)\n",
    "        mask*=self.smoothing\n",
    "        x=x*(1-mask)+m*mask\n",
    "        if(self.logits):\n",
    "            return x\n",
    "        return self.k*tf.nn.softmax(x)"
   ]
  },
  {
   "cell_type": "code",
   "execution_count": 200,
   "id": "770758ce",
   "metadata": {},
   "outputs": [
    {
     "data": {
      "text/plain": [
       "<matplotlib.image.AxesImage at 0x1bd2c0fe6d0>"
      ]
     },
     "execution_count": 200,
     "metadata": {},
     "output_type": "execute_result"
    },
    {
     "data": {
      "image/png": "[encoded data removed]",
      "text/plain": [
       "<Figure size 432x288 with 1 Axes>"
      ]
     },
     "metadata": {
      "needs_background": "light"
     },
     "output_type": "display_data"
    }
   ],
   "source": [
    "SIZE=[4,4]\n",
    "x=tf.random.uniform([1]+SIZE)\n",
    "#x=tf.math.exp(x)\n",
    "x=choose_k(3,SIZE[0]*SIZE[1],logits=True,smoothing=.9)(tf.reshape(x,[1,SIZE[0]*SIZE[1]]))\n",
    "img=tf.reshape(tf.nn.softmax(x),SIZE)\n",
    "plt.imshow(img,cmap=\"gray\")"
   ]
  },
  {
   "cell_type": "code",
   "execution_count": 172,
   "id": "0e33698d",
   "metadata": {},
   "outputs": [
    {
     "data": {
      "text/plain": [
       "<matplotlib.image.AxesImage at 0x1bd2b80b190>"
      ]
     },
     "execution_count": 172,
     "metadata": {},
     "output_type": "execute_result"
    },
    {
     "data": {
      "image/png": "[encoded data removed]",
      "text/plain": [
       "<Figure size 432x288 with 1 Axes>"
      ]
     },
     "metadata": {
      "needs_background": "light"
     },
     "output_type": "display_data"
    }
   ],
   "source": [
    "#SIZE=[100,100]\n",
    "x=tf.random.uniform([1]+SIZE)\n",
    "#x=tf.math.exp(x)\n",
    "x=tf.nn.softmax(tf.reshape(x,[1,SIZE[0]*SIZE[1]]))\n",
    "img=tf.reshape(x,SIZE)\n",
    "plt.imshow(img,cmap=\"gray\")"
   ]
  },
  {
   "cell_type": "code",
   "execution_count": 68,
   "id": "1f53db81",
   "metadata": {},
   "outputs": [
    {
     "data": {
      "text/plain": [
       "<tf.Tensor: shape=(1000000,), dtype=int32, numpy=array([875767, 700155, 957053, ..., 160875, 115816, 175681])>"
      ]
     },
     "execution_count": 68,
     "metadata": {},
     "output_type": "execute_result"
    }
   ],
   "source": [
    "tf.argsort(tf.random.uniform([10**6]))"
   ]
  },
  {
   "cell_type": "code",
   "execution_count": 162,
   "id": "260c8754",
   "metadata": {},
   "outputs": [],
   "source": [
    "def sample_without_replacement(logits, K):\n",
    "    \"\"\"\n",
    "    Courtesy of https://github.com/tensorflow/tensorflow/issues/9260#issuecomment-437875125\n",
    "    \"\"\"\n",
    "    z = -tf.math.log(-tf.math.log(tf.random.uniform(tf.shape(logits),0,1)))\n",
    "    _, indices = tf.nn.top_k(logits + z, K)\n",
    "    return indices"
   ]
  },
  {
   "cell_type": "code",
   "execution_count": 233,
   "id": "dfade3c8",
   "metadata": {},
   "outputs": [
    {
     "data": {
      "text/plain": [
       "<matplotlib.image.AxesImage at 0x1bd30578130>"
      ]
     },
     "execution_count": 233,
     "metadata": {},
     "output_type": "execute_result"
    },
    {
     "data": {
      "image/png": "[encoded data removed]",
      "text/plain": [
       "<Figure size 432x288 with 2 Axes>"
      ]
     },
     "metadata": {
      "needs_background": "light"
     },
     "output_type": "display_data"
    }
   ],
   "source": [
    "SIZE=[4,4]\n",
    "x=tf.random.uniform([1]+SIZE)\n",
    "#x=tf.math.exp(x)\n",
    "x=choose_k(3,SIZE[0]*SIZE[1],logits=True,smoothing=.9)(tf.reshape(x,[1,SIZE[0]*SIZE[1]]))\n",
    "img=tf.reshape(tf.nn.softmax(x),SIZE)\n",
    "\n",
    "\n",
    "y=sample_without_replacement(x,3)\n",
    "y=tf.one_hot(y,SIZE[0]*SIZE[1])\n",
    "y=tf.reduce_sum(y,axis=1)\n",
    "img_y=tf.reshape(y,SIZE)\n",
    "\n",
    "f,axis=plt.subplots(1,2)\n",
    "axis[0].imshow(img,cmap=\"gray\")\n",
    "axis[1].imshow(img_y,cmap=\"gray\")"
   ]
  },
  {
   "cell_type": "code",
   "execution_count": null,
   "id": "08ebfd41",
   "metadata": {},
   "outputs": [],
   "source": []
  }
 ],
 "metadata": {
  "kernelspec": {
   "display_name": "Python 3 (ipykernel)",
   "language": "python",
   "name": "python3"
  },
  "language_info": {
   "codemirror_mode": {
    "name": "ipython",
    "version": 3
   },
   "file_extension": ".py",
   "mimetype": "text/x-python",
   "name": "python",
   "nbconvert_exporter": "python",
   "pygments_lexer": "ipython3",
   "version": "3.9.7"
  }
 },
 "nbformat": 4,
 "nbformat_minor": 5
}
